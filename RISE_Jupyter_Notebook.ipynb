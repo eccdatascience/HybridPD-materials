{
 "cells": [
  {
   "cell_type": "markdown",
   "id": "2250ec07",
   "metadata": {
    "slideshow": {
     "slide_type": "slide"
    }
   },
   "source": [
    "# Jupyter Notebooks can be Slideshows!"
   ]
  },
  {
   "cell_type": "markdown",
   "id": "a3f6f3cc",
   "metadata": {
    "slideshow": {
     "slide_type": "slide"
    }
   },
   "source": [
    "This Jupyter Notebook will show you how to present jupyter notebooks as slideshows, which can make them easier to present in a classroom lecture setting.  <br>\n",
    "This will be done using RISE, a Jupyter notebook extension that turns your jupyter notebook into a slideshow presentation using reveal.js (an open source HTML presentation framework)"
   ]
  },
  {
   "cell_type": "markdown",
   "id": "bf9dcfdd",
   "metadata": {
    "slideshow": {
     "slide_type": "slide"
    }
   },
   "source": [
    "First things first: While this class has taught you about editing code in Jupyter Notebooks, you may not be aware of how you can format text in Jupyter notebooks! \n",
    "In addition to \"Code\" type cells, there are also \"Markdown\" type cells, which are for non-code text.  You can make them more attractive and readable by using <a href=\"https://www.earthdatascience.org/courses/intro-to-earth-data-science/file-formats/use-text-files/format-text-with-markdown-jupyter-notebook/\" target=\"_blank\">Markdown</a>, a human readable syntax for formatting text documents.  "
   ]
  },
  {
   "cell_type": "markdown",
   "id": "5ff61672",
   "metadata": {
    "slideshow": {
     "slide_type": "slide"
    }
   },
   "source": [
    "### Markdown does text formatting things, like\n",
    "* bold\n",
    "* italtics\n",
    "* lists (like this one)\n",
    "* hyperlinks\n",
    "* insert images\n",
    "* etc"
   ]
  },
  {
   "cell_type": "markdown",
   "id": "a291a037",
   "metadata": {
    "slideshow": {
     "slide_type": "slide"
    }
   },
   "source": [
    "To do this, you need to add some code to your jupyter notebook telling it to install the RISE extension. Do this by running the following code: \n",
    "`pip install RISE`\n",
    "\n"
   ]
  },
  {
   "cell_type": "code",
   "execution_count": null,
   "id": "1ca5ec0d",
   "metadata": {
    "slideshow": {
     "slide_type": "skip"
    }
   },
   "outputs": [],
   "source": [
    "pip install RISE"
   ]
  },
  {
   "cell_type": "markdown",
   "id": "a0cf4375",
   "metadata": {
    "slideshow": {
     "slide_type": "slide"
    }
   },
   "source": [
    "Once this is done, you will (probably) need to restart the Python3 kernel. You do this using the Kernel menu item at the top of your jupyter window."
   ]
  },
  {
   "attachments": {
    "Enter-Exit%20RISE%20Slideshow%20Menu%20Button.PNG": {
     "image/png": "[encoded data removed]"
    }
   },
   "cell_type": "markdown",
   "id": "5a4cf272",
   "metadata": {
    "slideshow": {
     "slide_type": "slide"
    }
   },
   "source": [
    "Once the kernal is restarted and RISE has been added to jupyter, you need to refresh your jupyter notebook using your browser's refresh button.  Once that is done, you should see a little icon that looks like a bar graph on the right side of your jupyter menu bar.  ![Enter-Exit%20RISE%20Slideshow%20Menu%20Button.PNG](attachment:Enter-Exit%20RISE%20Slideshow%20Menu%20Button.PNG)"
   ]
  },
  {
   "cell_type": "markdown",
   "id": "752fdab4",
   "metadata": {
    "slideshow": {
     "slide_type": "slide"
    }
   },
   "source": [
    "Before you can run the Notebook as a slideshow, you need to tell jupyter which cells to include in your slideshow.  First, find the slideshow options by opening the View menu and clicking on \"Cell Toolbar\" and then \"Slideshow\"\n",
    "Now you should see a \"Slide Type\" menu at the top right of every cell in your jupyter notebook.  You will need to click on this menu for each cell and tell it what type of slide it should appear as.  You can safely mark them all as \"Slide\" to start."
   ]
  },
  {
   "cell_type": "markdown",
   "id": "c95a088f",
   "metadata": {
    "slideshow": {
     "slide_type": "slide"
    }
   },
   "source": [
    "Note: installing the RISE exention to your jupyter notebook affects any Jupyter notebooks you have open or will open under that kernel. So you don't **have** to add the RISE installation code to individual notebooks.  It might be cleaner to have a Jupyter notebook that you open and run just to enable RISE."
   ]
  },
  {
   "attachments": {
    "Enter-Exit%20RISE%20Slideshow%20Menu%20Button.PNG": {
     "image/png": "[encoded data removed]"
    }
   },
   "cell_type": "markdown",
   "id": "cf7c53d7",
   "metadata": {
    "slideshow": {
     "slide_type": "slide"
    }
   },
   "source": [
    "After all that, you can click on the \"Enter/Exit RISE Slideshow\" menu button on your jupyter notebook to switch to slideshow mode. ![Enter-Exit%20RISE%20Slideshow%20Menu%20Button.PNG](attachment:Enter-Exit%20RISE%20Slideshow%20Menu%20Button.PNG)\n",
    "\n",
    "Alt-r should start slideshow mode as well."
   ]
  },
  {
   "cell_type": "markdown",
   "id": "caaf102e",
   "metadata": {
    "slideshow": {
     "slide_type": "slide"
    }
   },
   "source": [
    "Once you've got all this set up, the magic begins, and you can change code cells in the regular notebook or the slideshow version and run them (shift-Enter) to see the effects of changes in the code."
   ]
  },
  {
   "cell_type": "code",
   "execution_count": null,
   "id": "a5c3c69e",
   "metadata": {
    "slideshow": {
     "slide_type": "-"
    }
   },
   "outputs": [],
   "source": [
    "print(\"Hello Class\")"
   ]
  },
  {
   "cell_type": "markdown",
   "id": "b3bf63a4",
   "metadata": {
    "slideshow": {
     "slide_type": "slide"
    }
   },
   "source": [
    "One annoying thing about the **default** setup of the Slideshow is that you can't scroll down on windows full of text, so the end of  your long text sections just drift away into invisibility or inaccessibility. There's an **option** you can set in RISE that makes long cells scroll-able.\n",
    "***\n",
    "## A Modest Proposal, by Jonathan Swift: \n",
    "It is a melancholy object to those, who walk through this great town, or travel in the country, when they see the streets, the roads, and cabbin-doors crowded with beggars of the female sex, followed by three, four, or six children, all in rags, and importuning every passenger for an alms. These mothers, instead of being able to work for their honest livelihood, are forced to employ all their time in stroling to beg sustenance for their helpless infants who, as they grow up, either turn thieves for want of work, or leave their dear native country, to fight for the Pretender in Spain, or sell themselves to the Barbadoes.\n",
    "\n",
    "I think it is agreed by all parties, that this prodigious number of children in the arms, or on the backs, or at the heels of their mothers, and frequently of their fathers, is in the present deplorable state of the kingdom, a very great additional grievance; and therefore whoever could find out a fair, cheap and easy method of making these children sound and useful members of the commonwealth, would deserve so well of the publick, as to have his statue set up for a preserver of the nation.\n",
    "\n",
    "But my intention is very far from being confined to provide only for the children of professed beggars: it is of a much greater extent, and shall take in the whole number of infants at a certain age, who are born of parents in effect as little able to support them, as those who demand our charity in the streets.\n",
    "\n",
    "As to my own part, having turned my thoughts for many years upon this important subject, and maturely weighed the several schemes of our projectors, I have always found them grossly mistaken in their computation. It is true, a child just dropt from its dam, may be supported by her milk, for a solar year, with little other nourishment: at most not above the value of two shillings, which the mother may certainly get, or the value in scraps, by her lawful occupation of begging; and it is exactly at one year old that I propose to provide for them in such a manner, as, instead of being a charge upon their parents, or the parish, or wanting food and raiment for the rest of their lives, they shall, on the contrary, contribute to the feeding, and partly to the clothing of many thousands.\n",
    "\n",
    "There is likewise another great advantage in my scheme, that it will prevent those voluntary abortions, and that horrid practice of women murdering their bastard children, alas! too frequent among us, sacrificing the poor innocent babes, I doubt, more to avoid the expence than the shame, which would move tears and pity in the most savage and inhuman breast.\n",
    "\n",
    "The number of souls in this kingdom being usually reckoned one million and a half, of these I calculate there may be about two hundred thousand couple, whose wives are breeders; from which number I subtract thirty thousand couple, who are able to maintain their own children, (although I apprehend there cannot be so many under the present distresses of the kingdom) but this being granted, there will remain a hundred and seventy thousand breeders. I again subtract fifty thousand, for those women who miscarry, or whose children die by accident or disease within the year. There only remain a hundred and twenty thousand children of poor parents annually born. The question therefore is, How this number shall be reared and provided for? which, as I have already said, under the present situation of affairs, is utterly impossible by all the methods hitherto proposed. For we can neither employ them in handicraft or agriculture; they neither build houses, (I mean in the country) nor cultivate land: they can very seldom pick up a livelihood by stealing till they arrive at six years old; except where they are of towardly parts, although I confess they learn the rudiments much earlier; during which time they can however be properly looked upon only as probationers; as I have been informed by a principal gentleman in the county of Cavan, who protested to me, that he never knew above one or two instances under the age of six, even in a part of the kingdom so renowned for the quickest proficiency in that art.\n",
    "\n",
    "I am assured by our merchants, that a boy or a girl, before twelve years old, is no saleable commodity, and even when they come to this age, they will not yield above three pounds, or three pounds and half a crown at most, on the exchange; which cannot turn to account either to the parents or kingdom, the charge of nutriments and rags having been at least four times that value.\n",
    "\n",
    "I shall now therefore humbly propose my own thoughts, which I hope will not be liable to the least objection.\n",
    "\n",
    "I have been assured by a very knowing American of my acquaintance in London, that a young healthy child well nursed, is, at a year old, a most delicious nourishing and wholesome food, whether stewed, roasted, baked, or boiled; and I make no doubt that it will equally serve in a fricasee, or a ragoust.\n",
    "\n",
    "I do therefore humbly offer it to publick consideration, that of the hundred and twenty thousand children, already computed, twenty thousand may be reserved for breed, whereof only one fourth part to be males; which is more than we allow to sheep, black cattle, or swine, and my reason is, that these children are seldom the fruits of marriage, a circumstance not much regarded by our savages, therefore, one male will be sufficient to serve four females. That the remaining hundred thousand may, at a year old, be offered in sale to the persons of quality and fortune, through the kingdom, always advising the mother to let them suck plentifully in the last month, so as to render them plump, and fat for a good table. A child will make two dishes at an entertainment for friends, and when the family dines alone, the fore or hind quarter will make a reasonable dish, and seasoned with a little pepper or salt, will be very good boiled on the fourth day, especially in winter.\n",
    "\n",
    "I have reckoned upon a medium, that a child just born will weigh 12 pounds, and in a solar year, if tolerably nursed, encreaseth to 28 pounds.\n",
    "\n",
    "I grant this food will be somewhat dear, and therefore very proper for landlords, who, as they have already devoured most of the parents, seem to have the best title to the children.\n",
    "\n",
    "Infant’s flesh will be in season throughout the year, but more plentiful in March, and a little before and after; for we are told by a grave author, an eminent French physician, that fish being a prolifick dyet, there are more children born in Roman Catholick countries about nine months after Lent, than at any other season; therefore, reckoning a year after Lent, the markets will be more glutted than usual, because the number of Popish infants, is at least three to one in this kingdom, and therefore it will have one other collateral advantage, by lessening the number of Papists among us.\n",
    "\n",
    "I have already computed the charge of nursing a beggar’s child (in which list I reckon all cottagers, labourers, and four-fifths of the farmers) to be about two shillings per annum, rags included; and I believe no gentleman would repine to give ten shillings for the carcass of a good fat child, which, as I have said, will make four dishes of excellent nutritive meat, when he hath only some particular friend, or his own family to dine with him. Thus the squire will learn to be a good landlord, and grow popular among his tenants, the mother will have eight shillings neat profit, and be fit for work till she produces another child.\n",
    "\n",
    "Those who are more thrifty (as I must confess the times require) may flay the carcass; the skin of which, artificially dressed, will make admirable gloves for ladies, and summer boots for fine gentlemen.\n",
    "\n",
    "As to our City of Dublin, shambles may be appointed for this purpose, in the most convenient parts of it, and butchers we may be assured will not be wanting; although I rather recommend buying the children alive, and dressing them hot from the knife, as we do roasting pigs.\n",
    "\n",
    "A very worthy person, a true lover of his country, and whose virtues I highly esteem, was lately pleased in discoursing on this matter, to offer a refinement upon my scheme. He said, that many gentlemen of this kingdom, having of late destroyed their deer, he conceived that the want of venison might be well supplied by the bodies of young lads and maidens, not exceeding fourteen years of age, nor under twelve; so great a number of both sexes in every county being now ready to starve for want of work and service: and these to be disposed of by their parents if alive, or otherwise by their nearest relations. But with due deference to so excellent a friend, and so deserving a patriot, I cannot be altogether in his sentiments; for as to the males, my American acquaintance assured me from frequent experience, that their flesh was generally tough and lean, like that of our schoolboys, by continual exercise, and their taste disagreeable, and to fatten them would not answer the charge. Then as to the females, it would, I think, with humble submission, be a loss to the publick, because they soon would become breeders themselves: and besides, it is not improbable that some scrupulous people might be apt to censure such a practice, (although indeed very unjustly) as a little bordering upon cruelty, which, I confess, hath always been with me the strongest objection against any project, how well soever intended.\n",
    "\n",
    "But in order to justify my friend, he confessed, that this expedient was put into his head by the famous Psalmanaazor, a native of the island Formosa, who came from thence to London, above twenty years ago, and in conversation told my friend, that in his country, when any young person happened to be put to death, the executioner sold the carcass to persons of quality, as a prime dainty; and that, in his time, the body of a plump girl of fifteen, who was crucified for an attempt to poison the Emperor, was sold to his imperial majesty’s prime minister of state, and other great mandarins of the court in joints from the gibbet, at four hundred crowns. Neither indeed can I deny, that if the same use were made of several plump young girls in this town, who without one single groat to their fortunes, cannot stir abroad without a chair, and appear at a playhouse and assemblies in foreign fineries which they never will pay for, the kingdom would not be the worse.\n",
    "\n",
    "Some persons of a desponding spirit are in great concern about that vast number of poor people, who are aged, diseased, or maimed; and I have been desired to employ my thoughts what course may be taken, to ease the nation of so grievous an incumbrance. But I am not in the least pain upon that matter, because it is very well known, that they are every day dying, and rotting, by cold and famine, and filth, and vermin, as fast as can be reasonably expected. And as to the young labourers, they are now in almost as hopeful a condition. They cannot get work, and consequently pine away from want of nourishment, to a degree, that if at any time they are accidentally hired to common labour, they have not strength to perform it, and thus the country and themselves are happily delivered from the evils to come.\n",
    "\n",
    "I have too long digressed, and therefore shall return to my subject. I think the advantages by the proposal which I have made are obvious and many, as well as of the highest importance.\n",
    "\n",
    "For first, as I have already observed, it would greatly lessen the number of Papists, with whom we are yearly overrun, being the principal breeders of the nation, as well as our most dangerous enemies, and who stay at home on purpose with a design to deliver the kingdom to the Pretender, hoping to take their advantage by the absence of so many good Protestants, who have chosen rather to leave their country, than stay at home and pay tithes against their conscience to an episcopal curate.\n",
    "\n",
    "Secondly, The poorer tenants will have something valuable of their own, which by law may be made liable to a distress, and help to pay their landlord’s rent, their corn and cattle being already seized, and money a thing unknown.\n",
    "\n",
    "Thirdly, Whereas the maintainance of a hundred thousand children, from two years old, and upwards, cannot be computed at less than ten shillings a piece per annum, the nation’s stock will be thereby encreased fifty thousand pounds per annum, besides the profit of a new dish, introduced to the tables of all gentlemen of fortune in the kingdom, who have any refinement in taste. And the money will circulate among our selves, the goods being entirely of our own growth and manufacture.\n",
    "\n",
    "Fourthly, The constant breeders, besides the gain of eight shillings sterling per annum by the sale of their children, will be rid of the charge of maintaining them after the first year.\n",
    "\n",
    "Fifthly, This food would likewise bring great custom to taverns, where the vintners will certainly be so prudent as to procure the best receipts for dressing it to perfection; and consequently have their houses frequented by all the fine gentlemen, who justly value themselves upon their knowledge in good eating; and a skilful cook, who understands how to oblige his guests, will contrive to make it as expensive as they please.\n",
    "\n",
    "Sixthly, This would be a great inducement to marriage, which all wise nations have either encouraged by rewards, or enforced by laws and penalties. It would encrease the care and tenderness of mothers towards their children, when they were sure of a settlement for life to the poor babes, provided in some sort by the publick, to their annual profit instead of expence. We should soon see an honest emulation among the married women, which of them could bring the fattest child to the market. Men would become as fond of their wives, during the time of their pregnancy, as they are now of their mares in foal, their cows in calf, or sows when they are ready to farrow; nor offer to beat or kick them (as is too frequent a practice) for fear of a miscarriage.\n",
    "\n",
    "Many other advantages might be enumerated. For instance, the addition of some thousand carcasses in our exportation of barrel’d beef: the propagation of swine’s flesh, and improvement in the art of making good bacon, so much wanted among us by the great destruction of pigs, too frequent at our tables; which are no way comparable in taste or magnificence to a well grown, fat yearling child, which roasted whole will make a considerable figure at a Lord Mayor’s feast, or any other publick entertainment. But this, and many others, I omit, being studious of brevity.\n",
    "\n",
    "Supposing that one thousand families in this city, would be constant customers for infants flesh, besides others who might have it at merry meetings, particularly at weddings and christenings, I compute that Dublin would take off annually about twenty thousand carcasses; and the rest of the kingdom (where probably they will be sold somewhat cheaper) the remaining eighty thousand.\n",
    "\n",
    "I can think of no one objection, that will possibly be raised against this proposal, unless it should be urged, that the number of people will be thereby much lessened in the kingdom. This I freely own, and was indeed one principal design in offering it to the world. I desire the reader will observe, that I calculate my remedy for this one individual Kingdom of Ireland, and for no other that ever was, is, or, I think, ever can be upon Earth. Therefore let no man talk to me of other expedients: Of taxing our absentees at five shillings a pound: Of using neither clothes, nor houshold furniture, except what is of our own growth and manufacture: Of utterly rejecting the materials and instruments that promote foreign luxury: Of curing the expensiveness of pride, vanity, idleness, and gaming in our women: Of introducing a vein of parsimony, prudence and temperance: Of learning to love our country, wherein we differ even from Laplanders, and the inhabitants of Topinamboo: Of quitting our animosities and factions, nor acting any longer like the Jews, who were murdering one another at the very moment their city was taken: Of being a little cautious not to sell our country and consciences for nothing: Of teaching landlords to have at least one degree of mercy towards their tenants. Lastly, of putting a spirit of honesty, industry, and skill into our shopkeepers, who, if a resolution could now be taken to buy only our native goods, would immediately unite to cheat and exact upon us in the price, the measure, and the goodness, nor could ever yet be brought to make one fair proposal of just dealing, though often and earnestly invited to it.\n",
    "\n",
    "Therefore I repeat, let no man talk to me of these and the like expedients, till he hath at least some glympse of hope, that there will ever be some hearty and sincere attempt to put them into practice.\n",
    "\n",
    "But, as to myself, having been wearied out for many years with offering vain, idle, visionary thoughts, and at length utterly despairing of success, I fortunately fell upon this proposal, which, as it is wholly new, so it hath something solid and real, of no expence and little trouble, full in our own power, and whereby we can incur no danger in disobliging England. For this kind of commodity will not bear exportation, and flesh being of too tender a consistence, to admit a long continuance in salt, although perhaps I could name a country, which would be glad to eat up our whole nation without it.\n",
    "\n",
    "After all, I am not so violently bent upon my own opinion, as to reject any offer, proposed by wise men, which shall be found equally innocent, cheap, easy, and effectual. But before something of that kind shall be advanced in contradiction to my scheme, and offering a better, I desire the author or authors will be pleased maturely to consider two points. First, As things now stand, how they will be able to find food and raiment for a hundred thousand useless mouths and backs. And secondly, There being a round million of creatures in humane figure throughout this kingdom, whose whole subsistence put into a common stock, would leave them in debt two million of pounds sterling, adding those who are beggars by profession, to the bulk of farmers, cottagers and labourers, with their wives and children, who are beggars in effect; I desire those politicians who dislike my overture, and may perhaps be so bold to attempt an answer, that they will first ask the parents of these mortals, whether they would not at this day think it a great happiness to have been sold for food at a year old, in the manner I prescribe, and thereby have avoided such a perpetual scene of misfortunes, as they have since gone through, by the oppression of landlords, the impossibility of paying rent without money or trade, the want of common sustenance, with neither house nor clothes to cover them from the inclemencies of the weather, and the most inevitable prospect of intailing the like, or greater miseries, upon their breed for ever.\n",
    "\n",
    "I profess in the sincerity of my heart, that I have not the least personal interest in endeavouring to promote this necessary work, having no other motive than the publick good of my country, by advancing our trade, providing for infants, relieving the poor, and giving some pleasure to the rich. I have no children, by which I can propose to get a single penny; the youngest being nine years old, and my wife past child-bearing.\n",
    "***"
   ]
  },
  {
   "cell_type": "markdown",
   "id": "3f264dc8",
   "metadata": {
    "slideshow": {
     "slide_type": "slide"
    }
   },
   "source": [
    "Scroll function and a variety of other options can be set by editing files you can access through the main jupyter window (click on the jupyterhub logo at the top left of a Jupyter Notebook.  "
   ]
  },
  {
   "cell_type": "markdown",
   "id": "4bf29885",
   "metadata": {
    "slideshow": {
     "slide_type": "slide"
    }
   },
   "source": [
    "The easiest things to change are the <a href=\"https://revealjs.com/themes/\" target=\"_blank\">theme</a> and the <a href=\"https://revealjs.com/transitions/\" target=\"_blank\">slide transition type</a>. You can change them by \n",
    "* Setting the defaults for all your notebooks by editing a configuration file called `rise.json` which you can find in your Jupyter Hub \n",
    "* Editing the \"Notebook Metadata\" in an individual notebook. \n",
    "\n",
    "For example, change or add these lines to either location:\n",
    "* \"theme\": \"sky\",\n",
    "* \"transition\": \"convex\""
   ]
  },
  {
   "cell_type": "code",
   "execution_count": null,
   "id": "cc0345b6",
   "metadata": {},
   "outputs": [],
   "source": [
    "%pwd"
   ]
  },
  {
   "cell_type": "code",
   "execution_count": null,
   "id": "30175b8e",
   "metadata": {},
   "outputs": [],
   "source": []
  }
 ],
 "metadata": {
  "celltoolbar": "Slideshow",
  "kernelspec": {
   "display_name": "Python 3 (ipykernel)",
   "language": "python",
   "name": "python3"
  },
  "language_info": {
   "codemirror_mode": {
    "name": "ipython",
    "version": 3
   },
   "file_extension": ".py",
   "mimetype": "text/x-python",
   "name": "python",
   "nbconvert_exporter": "python",
   "pygments_lexer": "ipython3",
   "version": "3.10.11"
  },
  "rise": {
   "theme": "sky",
   "transition": "convex"
  }
 },
 "nbformat": 4,
 "nbformat_minor": 5
}
